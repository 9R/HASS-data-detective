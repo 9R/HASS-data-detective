{
 "cells": [
  {
   "cell_type": "markdown",
   "metadata": {},
   "source": [
    "Notebook showing usage of the data detective package.\n",
    "\n",
    "**References**\n",
    "* https://facebook.github.io/prophet/"
   ]
  },
  {
   "cell_type": "code",
   "execution_count": 1,
   "metadata": {},
   "outputs": [],
   "source": [
    "# To import detective from relative folder\n",
    "import os\n",
    "import sys\n",
    "module_path = os.path.abspath(os.path.join('..'))\n",
    "if module_path not in sys.path:\n",
    "    sys.path.append(module_path)\n",
    "\n",
    "import detective.core as detective\n",
    "import detective.helpers as helpers\n",
    "from fbprophet import Prophet\n",
    "import numpy as np\n",
    "import pandas as pd\n",
    "pd.options.mode.chained_assignment = None  # Suppress chained_assignment warning, default='warn'\n",
    "import seaborn as sns\n",
    "import matplotlib.pyplot as plt\n",
    "%matplotlib inline"
   ]
  },
  {
   "cell_type": "markdown",
   "metadata": {},
   "source": [
    "To load from a local db, we just need the path"
   ]
  },
  {
   "cell_type": "code",
   "execution_count": 2,
   "metadata": {},
   "outputs": [],
   "source": [
    "db_path = 'Users/robincole/Documents/Home-assistant_database/home-assistant_v2.db'\n",
    "DB_URL = 'sqlite:////' + db_path"
   ]
  },
  {
   "cell_type": "markdown",
   "metadata": {},
   "source": [
    "Alternatively, to load from a cloud database we load from a json file containing the url as the url contains our credentials and we want to lkeep these a secret. To learn how the Google CLoud SQL recorder can be setup checkout https://github.com/robmarkcole/HASS-Google-Cloud-SQL"
   ]
  },
  {
   "cell_type": "code",
   "execution_count": 3,
   "metadata": {},
   "outputs": [],
   "source": [
    "# For cloud database with secret credentials, load from json. Time to load vaires, up to 3 mins.\n",
    "filename = '/Users/robincole/Desktop/hass_db_url.json'\n",
    "DB_URL = helpers.load_url(filename)"
   ]
  },
  {
   "cell_type": "markdown",
   "metadata": {},
   "source": [
    "## Load the db data"
   ]
  },
  {
   "cell_type": "markdown",
   "metadata": {},
   "source": [
    "We use the DataParser class to load data from the database. This class performs the SQL queries and parses the returned data. The class holds the master pandas dataframe master_df."
   ]
  },
  {
   "cell_type": "code",
   "execution_count": 4,
   "metadata": {},
   "outputs": [
    {
     "name": "stdout",
     "output_type": "stream",
     "text": [
      "Querying the database, this could take a while\n",
      "CPU times: user 5.93 s, sys: 1.34 s, total: 7.27 s\n",
      "Wall time: 1min 25s\n"
     ]
    }
   ],
   "source": [
    "%%time\n",
    "parser = detective.DataParser(DB_URL)"
   ]
  },
  {
   "cell_type": "markdown",
   "metadata": {},
   "source": [
    "Lets create an object holding the numerical sensor"
   ]
  },
  {
   "cell_type": "code",
   "execution_count": 5,
   "metadata": {},
   "outputs": [],
   "source": [
    "sensors_num = detective.NumericalSensors(parser.master_df)"
   ]
  },
  {
   "cell_type": "markdown",
   "metadata": {},
   "source": [
    "We can access the list of sensor entities using the list_sensors attribute"
   ]
  },
  {
   "cell_type": "code",
   "execution_count": 6,
   "metadata": {},
   "outputs": [
    {
     "data": {
      "text/plain": [
       "['sensor.bme680humidity',\n",
       " 'sensor.bme680pressure',\n",
       " 'sensor.next_train_in',\n",
       " 'sensor.living_room_temperature',\n",
       " 'sensor.darksky_sensor_temperature',\n",
       " 'sensor.mean_temperature',\n",
       " 'sensor.bme680temperature',\n",
       " 'sensor.bedroom_temperature',\n",
       " 'sensor.next_train_to_wim',\n",
       " 'sensor.network_up']"
      ]
     },
     "execution_count": 6,
     "metadata": {},
     "output_type": "execute_result"
    }
   ],
   "source": [
    "sensors_num.entities[0:10]"
   ]
  },
  {
   "cell_type": "markdown",
   "metadata": {},
   "source": [
    "Now lets look at the dataframe"
   ]
  },
  {
   "cell_type": "code",
   "execution_count": 7,
   "metadata": {},
   "outputs": [
    {
     "data": {
      "text/html": [
       "<div>\n",
       "<style scoped>\n",
       "    .dataframe tbody tr th:only-of-type {\n",
       "        vertical-align: middle;\n",
       "    }\n",
       "\n",
       "    .dataframe tbody tr th {\n",
       "        vertical-align: top;\n",
       "    }\n",
       "\n",
       "    .dataframe thead th {\n",
       "        text-align: right;\n",
       "    }\n",
       "</style>\n",
       "<table border=\"1\" class=\"dataframe\">\n",
       "  <thead>\n",
       "    <tr style=\"text-align: right;\">\n",
       "      <th>entity</th>\n",
       "      <th>sensor.bayes_probability</th>\n",
       "      <th>sensor.bedroom_temperature</th>\n",
       "      <th>sensor.blink_blink_camera_percy_notifications</th>\n",
       "      <th>sensor.blink_blink_camera_percy_temperature</th>\n",
       "      <th>sensor.bme680air_qual</th>\n",
       "      <th>sensor.bme680humidity</th>\n",
       "      <th>sensor.bme680pressure</th>\n",
       "      <th>sensor.bme680temperature</th>\n",
       "      <th>sensor.cpu_load_total</th>\n",
       "      <th>sensor.darksky_sensor_precip_probability</th>\n",
       "      <th>...</th>\n",
       "      <th>sensor.network_up</th>\n",
       "      <th>sensor.next_train_in</th>\n",
       "      <th>sensor.next_train_to_wim</th>\n",
       "      <th>sensor.robins_iphone_battery_level</th>\n",
       "      <th>sensor.speedtest_download</th>\n",
       "      <th>sensor.time_in_bed</th>\n",
       "      <th>sensor.volume_used_volume_1</th>\n",
       "      <th>sensor.wemo_current_power_w</th>\n",
       "      <th>sensor.wemo_today_energy_kwh</th>\n",
       "      <th>sensor.work_to_home</th>\n",
       "    </tr>\n",
       "    <tr>\n",
       "      <th>last_changed</th>\n",
       "      <th></th>\n",
       "      <th></th>\n",
       "      <th></th>\n",
       "      <th></th>\n",
       "      <th></th>\n",
       "      <th></th>\n",
       "      <th></th>\n",
       "      <th></th>\n",
       "      <th></th>\n",
       "      <th></th>\n",
       "      <th></th>\n",
       "      <th></th>\n",
       "      <th></th>\n",
       "      <th></th>\n",
       "      <th></th>\n",
       "      <th></th>\n",
       "      <th></th>\n",
       "      <th></th>\n",
       "      <th></th>\n",
       "      <th></th>\n",
       "      <th></th>\n",
       "    </tr>\n",
       "  </thead>\n",
       "  <tbody>\n",
       "    <tr>\n",
       "      <th>2018-02-03 20:54:21.303548</th>\n",
       "      <td>0.03</td>\n",
       "      <td>17.77</td>\n",
       "      <td>1.0</td>\n",
       "      <td>18.0</td>\n",
       "      <td>7549489.0</td>\n",
       "      <td>45.957</td>\n",
       "      <td>1016.85</td>\n",
       "      <td>22.07</td>\n",
       "      <td>51.0</td>\n",
       "      <td>98.0</td>\n",
       "      <td>...</td>\n",
       "      <td>4.6</td>\n",
       "      <td>20.0</td>\n",
       "      <td>20.0</td>\n",
       "      <td>100.0</td>\n",
       "      <td>73.86</td>\n",
       "      <td>7.05</td>\n",
       "      <td>19.7</td>\n",
       "      <td>1.88</td>\n",
       "      <td>0.16</td>\n",
       "      <td>26.0</td>\n",
       "    </tr>\n",
       "    <tr>\n",
       "      <th>2018-02-03 20:54:21.307471</th>\n",
       "      <td>0.03</td>\n",
       "      <td>17.77</td>\n",
       "      <td>1.0</td>\n",
       "      <td>18.0</td>\n",
       "      <td>7549489.0</td>\n",
       "      <td>45.957</td>\n",
       "      <td>1016.85</td>\n",
       "      <td>22.07</td>\n",
       "      <td>51.0</td>\n",
       "      <td>98.0</td>\n",
       "      <td>...</td>\n",
       "      <td>4.6</td>\n",
       "      <td>20.0</td>\n",
       "      <td>20.0</td>\n",
       "      <td>100.0</td>\n",
       "      <td>73.86</td>\n",
       "      <td>7.05</td>\n",
       "      <td>19.7</td>\n",
       "      <td>1.88</td>\n",
       "      <td>0.16</td>\n",
       "      <td>26.0</td>\n",
       "    </tr>\n",
       "    <tr>\n",
       "      <th>2018-02-03 20:54:21.313233</th>\n",
       "      <td>0.03</td>\n",
       "      <td>17.77</td>\n",
       "      <td>1.0</td>\n",
       "      <td>18.0</td>\n",
       "      <td>7549489.0</td>\n",
       "      <td>45.957</td>\n",
       "      <td>1016.85</td>\n",
       "      <td>22.07</td>\n",
       "      <td>51.0</td>\n",
       "      <td>98.0</td>\n",
       "      <td>...</td>\n",
       "      <td>4.6</td>\n",
       "      <td>20.0</td>\n",
       "      <td>20.0</td>\n",
       "      <td>100.0</td>\n",
       "      <td>73.86</td>\n",
       "      <td>7.05</td>\n",
       "      <td>19.7</td>\n",
       "      <td>1.88</td>\n",
       "      <td>0.16</td>\n",
       "      <td>26.0</td>\n",
       "    </tr>\n",
       "    <tr>\n",
       "      <th>2018-02-03 20:54:21.316310</th>\n",
       "      <td>0.03</td>\n",
       "      <td>17.77</td>\n",
       "      <td>1.0</td>\n",
       "      <td>18.0</td>\n",
       "      <td>7549489.0</td>\n",
       "      <td>45.957</td>\n",
       "      <td>1016.85</td>\n",
       "      <td>22.07</td>\n",
       "      <td>51.0</td>\n",
       "      <td>98.0</td>\n",
       "      <td>...</td>\n",
       "      <td>4.6</td>\n",
       "      <td>20.0</td>\n",
       "      <td>20.0</td>\n",
       "      <td>100.0</td>\n",
       "      <td>73.86</td>\n",
       "      <td>7.05</td>\n",
       "      <td>19.7</td>\n",
       "      <td>1.88</td>\n",
       "      <td>0.16</td>\n",
       "      <td>26.0</td>\n",
       "    </tr>\n",
       "    <tr>\n",
       "      <th>2018-02-03 20:54:21.374422</th>\n",
       "      <td>0.03</td>\n",
       "      <td>17.77</td>\n",
       "      <td>1.0</td>\n",
       "      <td>18.0</td>\n",
       "      <td>7549489.0</td>\n",
       "      <td>45.957</td>\n",
       "      <td>1016.85</td>\n",
       "      <td>22.07</td>\n",
       "      <td>51.0</td>\n",
       "      <td>98.0</td>\n",
       "      <td>...</td>\n",
       "      <td>4.6</td>\n",
       "      <td>20.0</td>\n",
       "      <td>20.0</td>\n",
       "      <td>100.0</td>\n",
       "      <td>73.86</td>\n",
       "      <td>7.05</td>\n",
       "      <td>19.7</td>\n",
       "      <td>1.88</td>\n",
       "      <td>0.16</td>\n",
       "      <td>26.0</td>\n",
       "    </tr>\n",
       "  </tbody>\n",
       "</table>\n",
       "<p>5 rows × 31 columns</p>\n",
       "</div>"
      ],
      "text/plain": [
       "entity                      sensor.bayes_probability  \\\n",
       "last_changed                                           \n",
       "2018-02-03 20:54:21.303548                      0.03   \n",
       "2018-02-03 20:54:21.307471                      0.03   \n",
       "2018-02-03 20:54:21.313233                      0.03   \n",
       "2018-02-03 20:54:21.316310                      0.03   \n",
       "2018-02-03 20:54:21.374422                      0.03   \n",
       "\n",
       "entity                      sensor.bedroom_temperature  \\\n",
       "last_changed                                             \n",
       "2018-02-03 20:54:21.303548                       17.77   \n",
       "2018-02-03 20:54:21.307471                       17.77   \n",
       "2018-02-03 20:54:21.313233                       17.77   \n",
       "2018-02-03 20:54:21.316310                       17.77   \n",
       "2018-02-03 20:54:21.374422                       17.77   \n",
       "\n",
       "entity                      sensor.blink_blink_camera_percy_notifications  \\\n",
       "last_changed                                                                \n",
       "2018-02-03 20:54:21.303548                                            1.0   \n",
       "2018-02-03 20:54:21.307471                                            1.0   \n",
       "2018-02-03 20:54:21.313233                                            1.0   \n",
       "2018-02-03 20:54:21.316310                                            1.0   \n",
       "2018-02-03 20:54:21.374422                                            1.0   \n",
       "\n",
       "entity                      sensor.blink_blink_camera_percy_temperature  \\\n",
       "last_changed                                                              \n",
       "2018-02-03 20:54:21.303548                                         18.0   \n",
       "2018-02-03 20:54:21.307471                                         18.0   \n",
       "2018-02-03 20:54:21.313233                                         18.0   \n",
       "2018-02-03 20:54:21.316310                                         18.0   \n",
       "2018-02-03 20:54:21.374422                                         18.0   \n",
       "\n",
       "entity                      sensor.bme680air_qual  sensor.bme680humidity  \\\n",
       "last_changed                                                               \n",
       "2018-02-03 20:54:21.303548              7549489.0                 45.957   \n",
       "2018-02-03 20:54:21.307471              7549489.0                 45.957   \n",
       "2018-02-03 20:54:21.313233              7549489.0                 45.957   \n",
       "2018-02-03 20:54:21.316310              7549489.0                 45.957   \n",
       "2018-02-03 20:54:21.374422              7549489.0                 45.957   \n",
       "\n",
       "entity                      sensor.bme680pressure  sensor.bme680temperature  \\\n",
       "last_changed                                                                  \n",
       "2018-02-03 20:54:21.303548                1016.85                     22.07   \n",
       "2018-02-03 20:54:21.307471                1016.85                     22.07   \n",
       "2018-02-03 20:54:21.313233                1016.85                     22.07   \n",
       "2018-02-03 20:54:21.316310                1016.85                     22.07   \n",
       "2018-02-03 20:54:21.374422                1016.85                     22.07   \n",
       "\n",
       "entity                      sensor.cpu_load_total  \\\n",
       "last_changed                                        \n",
       "2018-02-03 20:54:21.303548                   51.0   \n",
       "2018-02-03 20:54:21.307471                   51.0   \n",
       "2018-02-03 20:54:21.313233                   51.0   \n",
       "2018-02-03 20:54:21.316310                   51.0   \n",
       "2018-02-03 20:54:21.374422                   51.0   \n",
       "\n",
       "entity                      sensor.darksky_sensor_precip_probability  \\\n",
       "last_changed                                                           \n",
       "2018-02-03 20:54:21.303548                                      98.0   \n",
       "2018-02-03 20:54:21.307471                                      98.0   \n",
       "2018-02-03 20:54:21.313233                                      98.0   \n",
       "2018-02-03 20:54:21.316310                                      98.0   \n",
       "2018-02-03 20:54:21.374422                                      98.0   \n",
       "\n",
       "entity                             ...           sensor.network_up  \\\n",
       "last_changed                       ...                               \n",
       "2018-02-03 20:54:21.303548         ...                         4.6   \n",
       "2018-02-03 20:54:21.307471         ...                         4.6   \n",
       "2018-02-03 20:54:21.313233         ...                         4.6   \n",
       "2018-02-03 20:54:21.316310         ...                         4.6   \n",
       "2018-02-03 20:54:21.374422         ...                         4.6   \n",
       "\n",
       "entity                      sensor.next_train_in  sensor.next_train_to_wim  \\\n",
       "last_changed                                                                 \n",
       "2018-02-03 20:54:21.303548                  20.0                      20.0   \n",
       "2018-02-03 20:54:21.307471                  20.0                      20.0   \n",
       "2018-02-03 20:54:21.313233                  20.0                      20.0   \n",
       "2018-02-03 20:54:21.316310                  20.0                      20.0   \n",
       "2018-02-03 20:54:21.374422                  20.0                      20.0   \n",
       "\n",
       "entity                      sensor.robins_iphone_battery_level  \\\n",
       "last_changed                                                     \n",
       "2018-02-03 20:54:21.303548                               100.0   \n",
       "2018-02-03 20:54:21.307471                               100.0   \n",
       "2018-02-03 20:54:21.313233                               100.0   \n",
       "2018-02-03 20:54:21.316310                               100.0   \n",
       "2018-02-03 20:54:21.374422                               100.0   \n",
       "\n",
       "entity                      sensor.speedtest_download  sensor.time_in_bed  \\\n",
       "last_changed                                                                \n",
       "2018-02-03 20:54:21.303548                      73.86                7.05   \n",
       "2018-02-03 20:54:21.307471                      73.86                7.05   \n",
       "2018-02-03 20:54:21.313233                      73.86                7.05   \n",
       "2018-02-03 20:54:21.316310                      73.86                7.05   \n",
       "2018-02-03 20:54:21.374422                      73.86                7.05   \n",
       "\n",
       "entity                      sensor.volume_used_volume_1  \\\n",
       "last_changed                                              \n",
       "2018-02-03 20:54:21.303548                         19.7   \n",
       "2018-02-03 20:54:21.307471                         19.7   \n",
       "2018-02-03 20:54:21.313233                         19.7   \n",
       "2018-02-03 20:54:21.316310                         19.7   \n",
       "2018-02-03 20:54:21.374422                         19.7   \n",
       "\n",
       "entity                      sensor.wemo_current_power_w  \\\n",
       "last_changed                                              \n",
       "2018-02-03 20:54:21.303548                         1.88   \n",
       "2018-02-03 20:54:21.307471                         1.88   \n",
       "2018-02-03 20:54:21.313233                         1.88   \n",
       "2018-02-03 20:54:21.316310                         1.88   \n",
       "2018-02-03 20:54:21.374422                         1.88   \n",
       "\n",
       "entity                      sensor.wemo_today_energy_kwh  sensor.work_to_home  \n",
       "last_changed                                                                   \n",
       "2018-02-03 20:54:21.303548                          0.16                 26.0  \n",
       "2018-02-03 20:54:21.307471                          0.16                 26.0  \n",
       "2018-02-03 20:54:21.313233                          0.16                 26.0  \n",
       "2018-02-03 20:54:21.316310                          0.16                 26.0  \n",
       "2018-02-03 20:54:21.374422                          0.16                 26.0  \n",
       "\n",
       "[5 rows x 31 columns]"
      ]
     },
     "execution_count": 7,
     "metadata": {},
     "output_type": "execute_result"
    }
   ],
   "source": [
    "sensors_num.data.head()"
   ]
  },
  {
   "cell_type": "code",
   "execution_count": 8,
   "metadata": {},
   "outputs": [
    {
     "data": {
      "text/plain": [
       "DatetimeIndex(['2018-02-03 20:54:21.303548', '2018-02-03 20:54:21.307471',\n",
       "               '2018-02-03 20:54:21.313233', '2018-02-03 20:54:21.316310',\n",
       "               '2018-02-03 20:54:21.374422', '2018-02-03 20:54:21.405760',\n",
       "               '2018-02-03 20:54:21.904894', '2018-02-03 20:54:22.117675',\n",
       "               '2018-02-03 20:54:22.121273', '2018-02-03 20:54:25.167167',\n",
       "               ...\n",
       "               '2018-02-04 14:53:24.320947', '2018-02-04 14:53:34.909279',\n",
       "               '2018-02-04 14:54:00.894489', '2018-02-04 14:54:05.927046',\n",
       "               '2018-02-04 14:54:36.915070', '2018-02-04 14:54:57.378496',\n",
       "               '2018-02-04 14:54:57.387581', '2018-02-04 14:55:07.913766',\n",
       "               '2018-02-04 14:55:13.270987', '2018-02-04 14:55:13.275945'],\n",
       "              dtype='datetime64[ns]', name='last_changed', length=4690, freq=None)"
      ]
     },
     "execution_count": 8,
     "metadata": {},
     "output_type": "execute_result"
    }
   ],
   "source": [
    "sensors_num.data.index"
   ]
  },
  {
   "cell_type": "markdown",
   "metadata": {},
   "source": [
    "Lets now check for correlations in the data using the all_corrs() method"
   ]
  },
  {
   "cell_type": "code",
   "execution_count": 9,
   "metadata": {},
   "outputs": [],
   "source": [
    "corrs = sensors_num.correlations()"
   ]
  },
  {
   "cell_type": "code",
   "execution_count": 10,
   "metadata": {},
   "outputs": [
    {
     "data": {
      "text/html": [
       "<div>\n",
       "<style scoped>\n",
       "    .dataframe tbody tr th:only-of-type {\n",
       "        vertical-align: middle;\n",
       "    }\n",
       "\n",
       "    .dataframe tbody tr th {\n",
       "        vertical-align: top;\n",
       "    }\n",
       "\n",
       "    .dataframe thead th {\n",
       "        text-align: right;\n",
       "    }\n",
       "</style>\n",
       "<table border=\"1\" class=\"dataframe\">\n",
       "  <thead>\n",
       "    <tr style=\"text-align: right;\">\n",
       "      <th></th>\n",
       "      <th>value</th>\n",
       "    </tr>\n",
       "  </thead>\n",
       "  <tbody>\n",
       "    <tr>\n",
       "      <th>sensor.next_train_in-sensor.next_train_to_wim</th>\n",
       "      <td>0.992791</td>\n",
       "    </tr>\n",
       "    <tr>\n",
       "      <th>sensor.wemo_today_energy_kwh-sensor.darksky_sensor_temperature</th>\n",
       "      <td>0.781086</td>\n",
       "    </tr>\n",
       "    <tr>\n",
       "      <th>sensor.home_to_waterloo-sensor.bayes_probability</th>\n",
       "      <td>0.762457</td>\n",
       "    </tr>\n",
       "    <tr>\n",
       "      <th>sensor.work_to_home-sensor.darksky_sensor_temperature</th>\n",
       "      <td>0.682542</td>\n",
       "    </tr>\n",
       "    <tr>\n",
       "      <th>sensor.wemo_today_energy_kwh-sensor.living_room_light_level</th>\n",
       "      <td>0.585180</td>\n",
       "    </tr>\n",
       "    <tr>\n",
       "      <th>sensor.work_to_home-sensor.wemo_today_energy_kwh</th>\n",
       "      <td>0.571311</td>\n",
       "    </tr>\n",
       "    <tr>\n",
       "      <th>sensor.living_room_temperature-sensor.mean_temperature</th>\n",
       "      <td>0.522996</td>\n",
       "    </tr>\n",
       "    <tr>\n",
       "      <th>sensor.wemo_today_energy_kwh-sensor.hall_temperature</th>\n",
       "      <td>-0.518273</td>\n",
       "    </tr>\n",
       "    <tr>\n",
       "      <th>sensor.living_room_temperature-sensor.home_to_waterloo</th>\n",
       "      <td>-0.527719</td>\n",
       "    </tr>\n",
       "    <tr>\n",
       "      <th>sensor.home_to_waterloo-sensor.wemo_today_energy_kwh</th>\n",
       "      <td>-0.706230</td>\n",
       "    </tr>\n",
       "  </tbody>\n",
       "</table>\n",
       "</div>"
      ],
      "text/plain": [
       "                                                       value\n",
       "sensor.next_train_in-sensor.next_train_to_wim       0.992791\n",
       "sensor.wemo_today_energy_kwh-sensor.darksky_sen...  0.781086\n",
       "sensor.home_to_waterloo-sensor.bayes_probability    0.762457\n",
       "sensor.work_to_home-sensor.darksky_sensor_tempe...  0.682542\n",
       "sensor.wemo_today_energy_kwh-sensor.living_room...  0.585180\n",
       "sensor.work_to_home-sensor.wemo_today_energy_kwh    0.571311\n",
       "sensor.living_room_temperature-sensor.mean_temp...  0.522996\n",
       "sensor.wemo_today_energy_kwh-sensor.hall_temper... -0.518273\n",
       "sensor.living_room_temperature-sensor.home_to_w... -0.527719\n",
       "sensor.home_to_waterloo-sensor.wemo_today_energ... -0.706230"
      ]
     },
     "execution_count": 10,
     "metadata": {},
     "output_type": "execute_result"
    }
   ],
   "source": [
    "corrs[(corrs['value'] > 0.5) | (corrs['value'] < -0.5)]"
   ]
  },
  {
   "cell_type": "markdown",
   "metadata": {},
   "source": [
    "Unsurprisingly the mean temperature is strongly correlated with all of the temperature sensors. \n",
    "\n",
    "Interestingly my iphone battery level is somewhat inversely correlated with the travel time from home to waterloo, which gets longer late at night when my battery level is more likely to be low. "
   ]
  },
  {
   "cell_type": "markdown",
   "metadata": {},
   "source": [
    "#### Plot sensor data\n",
    "Convenience to plot a sensor data.\n",
    "Pass a single entity to plot:"
   ]
  },
  {
   "cell_type": "code",
   "execution_count": 39,
   "metadata": {},
   "outputs": [
    {
     "data": {
      "image/png": "[encoded data removed]",
      "text/plain": [
       "<matplotlib.figure.Figure at 0x11cbb1278>"
      ]
     },
     "metadata": {},
     "output_type": "display_data"
    }
   ],
   "source": [
    "sensors_num.plot('sensor.darksky_sensor_temperature')"
   ]
  },
  {
   "cell_type": "markdown",
   "metadata": {},
   "source": [
    "Or pass a list of entities to plot:"
   ]
  },
  {
   "cell_type": "code",
   "execution_count": 37,
   "metadata": {},
   "outputs": [
    {
     "data": {
      "image/png": "[encoded data removed]",
      "text/plain": [
       "<matplotlib.figure.Figure at 0x11c76dcf8>"
      ]
     },
     "metadata": {},
     "output_type": "display_data"
    }
   ],
   "source": [
    "to_plot = ['sensor.living_room_temperature',\n",
    "           'sensor.bedroom_temperature',\n",
    "           'sensor.darksky_sensor_temperature']\n",
    "\n",
    "sensors_num.plot(to_plot)"
   ]
  },
  {
   "cell_type": "markdown",
   "metadata": {},
   "source": [
    "#### Pairplot\n",
    "A seaborn pair plot to show correlations."
   ]
  },
  {
   "cell_type": "code",
   "execution_count": 13,
   "metadata": {},
   "outputs": [
    {
     "data": {
      "image/png": "[encoded data removed]",
      "text/plain": [
       "<matplotlib.figure.Figure at 0x11ccd3e10>"
      ]
     },
     "metadata": {},
     "output_type": "display_data"
    }
   ],
   "source": [
    "sns.pairplot(sensors_num.data[to_plot]);"
   ]
  },
  {
   "cell_type": "markdown",
   "metadata": {},
   "source": [
    "## Binary sensors\n",
    "Class for handling binary sensors with on/off states."
   ]
  },
  {
   "cell_type": "code",
   "execution_count": 14,
   "metadata": {},
   "outputs": [],
   "source": [
    "sensors_binary = detective.BinarySensors(parser.master_df)"
   ]
  },
  {
   "cell_type": "code",
   "execution_count": 15,
   "metadata": {},
   "outputs": [
    {
     "data": {
      "text/plain": [
       "['binary_sensor.motion_at_home',\n",
       " 'binary_sensor.in_bed_bayesian',\n",
       " 'binary_sensor.elgato_door',\n",
       " 'binary_sensor.late_night_sensor',\n",
       " 'binary_sensor.devices_home',\n",
       " 'binary_sensor.wipy_water_monitor',\n",
       " 'binary_sensor.fibaro_leak',\n",
       " 'binary_sensor.macbook',\n",
       " 'binary_sensor.workday_sensor',\n",
       " 'binary_sensor.living_room_nest_protect_online',\n",
       " 'binary_sensor.blink_armed_status',\n",
       " 'binary_sensor.blink_blink_camera_percy_motion_enabled',\n",
       " 'binary_sensor.kettle',\n",
       " 'binary_sensor.doorbell']"
      ]
     },
     "execution_count": 15,
     "metadata": {},
     "output_type": "execute_result"
    }
   ],
   "source": [
    "sensors_binary.entities"
   ]
  },
  {
   "cell_type": "markdown",
   "metadata": {},
   "source": [
    "Lets analyse the **motion_at_home**, create some features for day of week and time category, then analyse motion by these features."
   ]
  },
  {
   "cell_type": "code",
   "execution_count": 16,
   "metadata": {},
   "outputs": [],
   "source": [
    "to_plot = 'binary_sensor.motion_at_home'\n",
    "motion_df = sensors_binary.data[[to_plot]] # Must pass a list to return correctly indexed df"
   ]
  },
  {
   "cell_type": "code",
   "execution_count": 17,
   "metadata": {},
   "outputs": [
    {
     "data": {
      "text/html": [
       "<div>\n",
       "<style scoped>\n",
       "    .dataframe tbody tr th:only-of-type {\n",
       "        vertical-align: middle;\n",
       "    }\n",
       "\n",
       "    .dataframe tbody tr th {\n",
       "        vertical-align: top;\n",
       "    }\n",
       "\n",
       "    .dataframe thead th {\n",
       "        text-align: right;\n",
       "    }\n",
       "</style>\n",
       "<table border=\"1\" class=\"dataframe\">\n",
       "  <thead>\n",
       "    <tr style=\"text-align: right;\">\n",
       "      <th>entity</th>\n",
       "      <th>binary_sensor.motion_at_home</th>\n",
       "    </tr>\n",
       "    <tr>\n",
       "      <th>last_changed</th>\n",
       "      <th></th>\n",
       "    </tr>\n",
       "  </thead>\n",
       "  <tbody>\n",
       "    <tr>\n",
       "      <th>2017-12-25 07:30:00.472937</th>\n",
       "      <td>False</td>\n",
       "    </tr>\n",
       "    <tr>\n",
       "      <th>2017-12-25 07:30:00.474791</th>\n",
       "      <td>None</td>\n",
       "    </tr>\n",
       "    <tr>\n",
       "      <th>2017-12-25 07:30:00.476154</th>\n",
       "      <td>None</td>\n",
       "    </tr>\n",
       "    <tr>\n",
       "      <th>2017-12-25 07:30:00.477496</th>\n",
       "      <td>None</td>\n",
       "    </tr>\n",
       "    <tr>\n",
       "      <th>2017-12-25 07:30:00.728927</th>\n",
       "      <td>None</td>\n",
       "    </tr>\n",
       "  </tbody>\n",
       "</table>\n",
       "</div>"
      ],
      "text/plain": [
       "entity                     binary_sensor.motion_at_home\n",
       "last_changed                                           \n",
       "2017-12-25 07:30:00.472937                        False\n",
       "2017-12-25 07:30:00.474791                         None\n",
       "2017-12-25 07:30:00.476154                         None\n",
       "2017-12-25 07:30:00.477496                         None\n",
       "2017-12-25 07:30:00.728927                         None"
      ]
     },
     "execution_count": 17,
     "metadata": {},
     "output_type": "execute_result"
    }
   ],
   "source": [
    "motion_df.head()"
   ]
  },
  {
   "cell_type": "code",
   "execution_count": 18,
   "metadata": {},
   "outputs": [
    {
     "name": "stderr",
     "output_type": "stream",
     "text": [
      "/anaconda3/lib/python3.6/site-packages/ipykernel_launcher.py:3: FutureWarning: fill_method is deprecated to .resample()\n",
      "the new syntax is .resample(...).ffill()\n",
      "  This is separate from the ipykernel package so we can avoid doing imports until\n"
     ]
    }
   ],
   "source": [
    "# Resample to seconds and forwardfill data\n",
    "# Using seconds for resample frequency here\n",
    "resampled = motion_df.resample('s', fill_method='ffill')"
   ]
  },
  {
   "cell_type": "code",
   "execution_count": 19,
   "metadata": {},
   "outputs": [
    {
     "data": {
      "text/html": [
       "<div>\n",
       "<style scoped>\n",
       "    .dataframe tbody tr th:only-of-type {\n",
       "        vertical-align: middle;\n",
       "    }\n",
       "\n",
       "    .dataframe tbody tr th {\n",
       "        vertical-align: top;\n",
       "    }\n",
       "\n",
       "    .dataframe thead th {\n",
       "        text-align: right;\n",
       "    }\n",
       "</style>\n",
       "<table border=\"1\" class=\"dataframe\">\n",
       "  <thead>\n",
       "    <tr style=\"text-align: right;\">\n",
       "      <th>entity</th>\n",
       "      <th>binary_sensor.motion_at_home</th>\n",
       "    </tr>\n",
       "    <tr>\n",
       "      <th>last_changed</th>\n",
       "      <th></th>\n",
       "    </tr>\n",
       "  </thead>\n",
       "  <tbody>\n",
       "    <tr>\n",
       "      <th>2017-12-25 07:30:00</th>\n",
       "      <td>NaN</td>\n",
       "    </tr>\n",
       "    <tr>\n",
       "      <th>2017-12-25 07:30:01</th>\n",
       "      <td>None</td>\n",
       "    </tr>\n",
       "    <tr>\n",
       "      <th>2017-12-25 07:30:02</th>\n",
       "      <td>None</td>\n",
       "    </tr>\n",
       "    <tr>\n",
       "      <th>2017-12-25 07:30:03</th>\n",
       "      <td>None</td>\n",
       "    </tr>\n",
       "    <tr>\n",
       "      <th>2017-12-25 07:30:04</th>\n",
       "      <td>None</td>\n",
       "    </tr>\n",
       "  </tbody>\n",
       "</table>\n",
       "</div>"
      ],
      "text/plain": [
       "entity              binary_sensor.motion_at_home\n",
       "last_changed                                    \n",
       "2017-12-25 07:30:00                          NaN\n",
       "2017-12-25 07:30:01                         None\n",
       "2017-12-25 07:30:02                         None\n",
       "2017-12-25 07:30:03                         None\n",
       "2017-12-25 07:30:04                         None"
      ]
     },
     "execution_count": 19,
     "metadata": {},
     "output_type": "execute_result"
    }
   ],
   "source": [
    "resampled.head()"
   ]
  },
  {
   "cell_type": "code",
   "execution_count": 20,
   "metadata": {},
   "outputs": [],
   "source": [
    "resampled.columns = ['value']"
   ]
  },
  {
   "cell_type": "code",
   "execution_count": 21,
   "metadata": {},
   "outputs": [
    {
     "data": {
      "text/html": [
       "<div>\n",
       "<style scoped>\n",
       "    .dataframe tbody tr th:only-of-type {\n",
       "        vertical-align: middle;\n",
       "    }\n",
       "\n",
       "    .dataframe tbody tr th {\n",
       "        vertical-align: top;\n",
       "    }\n",
       "\n",
       "    .dataframe thead th {\n",
       "        text-align: right;\n",
       "    }\n",
       "</style>\n",
       "<table border=\"1\" class=\"dataframe\">\n",
       "  <thead>\n",
       "    <tr style=\"text-align: right;\">\n",
       "      <th></th>\n",
       "      <th>value</th>\n",
       "    </tr>\n",
       "    <tr>\n",
       "      <th>last_changed</th>\n",
       "      <th></th>\n",
       "    </tr>\n",
       "  </thead>\n",
       "  <tbody>\n",
       "    <tr>\n",
       "      <th>2017-12-25 07:30:00</th>\n",
       "      <td>NaN</td>\n",
       "    </tr>\n",
       "    <tr>\n",
       "      <th>2017-12-25 07:30:01</th>\n",
       "      <td>None</td>\n",
       "    </tr>\n",
       "    <tr>\n",
       "      <th>2017-12-25 07:30:02</th>\n",
       "      <td>None</td>\n",
       "    </tr>\n",
       "    <tr>\n",
       "      <th>2017-12-25 07:30:03</th>\n",
       "      <td>None</td>\n",
       "    </tr>\n",
       "    <tr>\n",
       "      <th>2017-12-25 07:30:04</th>\n",
       "      <td>None</td>\n",
       "    </tr>\n",
       "  </tbody>\n",
       "</table>\n",
       "</div>"
      ],
      "text/plain": [
       "                    value\n",
       "last_changed             \n",
       "2017-12-25 07:30:00   NaN\n",
       "2017-12-25 07:30:01  None\n",
       "2017-12-25 07:30:02  None\n",
       "2017-12-25 07:30:03  None\n",
       "2017-12-25 07:30:04  None"
      ]
     },
     "execution_count": 21,
     "metadata": {},
     "output_type": "execute_result"
    }
   ],
   "source": [
    "resampled.head()"
   ]
  },
  {
   "cell_type": "code",
   "execution_count": 22,
   "metadata": {},
   "outputs": [
    {
     "data": {
      "image/png": "[encoded data removed]",
      "text/plain": [
       "<matplotlib.figure.Figure at 0x11ca78d30>"
      ]
     },
     "metadata": {},
     "output_type": "display_data"
    }
   ],
   "source": [
    "fig, ax = plt.subplots(1, 1, figsize=(16, 2))\n",
    "\n",
    "ax.fill_between(resampled.index, y1=0, y2=1, facecolor='royalblue', label='off')\n",
    "ax.fill_between(resampled.index, y1=0, y2=1, where = (resampled['value'] > 0), facecolor='red', label='on')\n",
    "ax.set_title(to_plot)\n",
    "ax.set_xlabel('Date')\n",
    "ax.set_frame_on(False)\n",
    "ax.set_yticks([])\n",
    "plt.legend(loc=(1.01, 0.7))\n",
    "plt.show()"
   ]
  },
  {
   "cell_type": "markdown",
   "metadata": {},
   "source": [
    "Now create some features and do a study on weekday dependence"
   ]
  },
  {
   "cell_type": "code",
   "execution_count": 23,
   "metadata": {},
   "outputs": [],
   "source": [
    "motion_df['weekday'] = motion_df.index.weekday_name"
   ]
  },
  {
   "cell_type": "code",
   "execution_count": 24,
   "metadata": {},
   "outputs": [],
   "source": [
    "motion_df['is_weekday'] = motion_df.index.map(lambda x: helpers.is_weekday(x))"
   ]
  },
  {
   "cell_type": "code",
   "execution_count": 25,
   "metadata": {},
   "outputs": [],
   "source": [
    "motion_df = motion_df[motion_df['binary_sensor.motion_at_home'] == True] # Keep only true detection events"
   ]
  },
  {
   "cell_type": "code",
   "execution_count": 26,
   "metadata": {},
   "outputs": [],
   "source": [
    "motion_df['time_category'] = motion_df.index.map(lambda x: helpers.time_category(x))"
   ]
  },
  {
   "cell_type": "code",
   "execution_count": 27,
   "metadata": {},
   "outputs": [
    {
     "data": {
      "text/html": [
       "<div>\n",
       "<style scoped>\n",
       "    .dataframe tbody tr th:only-of-type {\n",
       "        vertical-align: middle;\n",
       "    }\n",
       "\n",
       "    .dataframe tbody tr th {\n",
       "        vertical-align: top;\n",
       "    }\n",
       "\n",
       "    .dataframe thead th {\n",
       "        text-align: right;\n",
       "    }\n",
       "</style>\n",
       "<table border=\"1\" class=\"dataframe\">\n",
       "  <thead>\n",
       "    <tr style=\"text-align: right;\">\n",
       "      <th>entity</th>\n",
       "      <th>binary_sensor.motion_at_home</th>\n",
       "      <th>weekday</th>\n",
       "      <th>is_weekday</th>\n",
       "      <th>time_category</th>\n",
       "    </tr>\n",
       "    <tr>\n",
       "      <th>last_changed</th>\n",
       "      <th></th>\n",
       "      <th></th>\n",
       "      <th></th>\n",
       "      <th></th>\n",
       "    </tr>\n",
       "  </thead>\n",
       "  <tbody>\n",
       "    <tr>\n",
       "      <th>2017-12-25 07:32:05.284759</th>\n",
       "      <td>True</td>\n",
       "      <td>Monday</td>\n",
       "      <td>True</td>\n",
       "      <td>morning</td>\n",
       "    </tr>\n",
       "    <tr>\n",
       "      <th>2017-12-25 07:32:35.294064</th>\n",
       "      <td>True</td>\n",
       "      <td>Monday</td>\n",
       "      <td>True</td>\n",
       "      <td>morning</td>\n",
       "    </tr>\n",
       "    <tr>\n",
       "      <th>2017-12-25 07:33:32.286046</th>\n",
       "      <td>True</td>\n",
       "      <td>Monday</td>\n",
       "      <td>True</td>\n",
       "      <td>morning</td>\n",
       "    </tr>\n",
       "    <tr>\n",
       "      <th>2017-12-25 07:41:50.294864</th>\n",
       "      <td>True</td>\n",
       "      <td>Monday</td>\n",
       "      <td>True</td>\n",
       "      <td>morning</td>\n",
       "    </tr>\n",
       "    <tr>\n",
       "      <th>2017-12-25 07:50:08.284818</th>\n",
       "      <td>True</td>\n",
       "      <td>Monday</td>\n",
       "      <td>True</td>\n",
       "      <td>morning</td>\n",
       "    </tr>\n",
       "  </tbody>\n",
       "</table>\n",
       "</div>"
      ],
      "text/plain": [
       "entity                     binary_sensor.motion_at_home weekday is_weekday  \\\n",
       "last_changed                                                                 \n",
       "2017-12-25 07:32:05.284759                         True  Monday       True   \n",
       "2017-12-25 07:32:35.294064                         True  Monday       True   \n",
       "2017-12-25 07:33:32.286046                         True  Monday       True   \n",
       "2017-12-25 07:41:50.294864                         True  Monday       True   \n",
       "2017-12-25 07:50:08.284818                         True  Monday       True   \n",
       "\n",
       "entity                     time_category  \n",
       "last_changed                              \n",
       "2017-12-25 07:32:05.284759       morning  \n",
       "2017-12-25 07:32:35.294064       morning  \n",
       "2017-12-25 07:33:32.286046       morning  \n",
       "2017-12-25 07:41:50.294864       morning  \n",
       "2017-12-25 07:50:08.284818       morning  "
      ]
     },
     "execution_count": 27,
     "metadata": {},
     "output_type": "execute_result"
    }
   ],
   "source": [
    "motion_df.head()"
   ]
  },
  {
   "cell_type": "code",
   "execution_count": 28,
   "metadata": {},
   "outputs": [
    {
     "data": {
      "text/plain": [
       "is_weekday\n",
       "False    2846\n",
       "True     7374\n",
       "Name: count, dtype: object"
      ]
     },
     "execution_count": 28,
     "metadata": {},
     "output_type": "execute_result"
    }
   ],
   "source": [
    "motion_df['binary_sensor.motion_at_home'].groupby(motion_df['is_weekday']).describe()['count']"
   ]
  },
  {
   "cell_type": "code",
   "execution_count": 29,
   "metadata": {},
   "outputs": [
    {
     "data": {
      "text/html": [
       "<div>\n",
       "<style scoped>\n",
       "    .dataframe tbody tr th:only-of-type {\n",
       "        vertical-align: middle;\n",
       "    }\n",
       "\n",
       "    .dataframe tbody tr th {\n",
       "        vertical-align: top;\n",
       "    }\n",
       "\n",
       "    .dataframe thead th {\n",
       "        text-align: right;\n",
       "    }\n",
       "</style>\n",
       "<table border=\"1\" class=\"dataframe\">\n",
       "  <thead>\n",
       "    <tr style=\"text-align: right;\">\n",
       "      <th>weekday</th>\n",
       "      <th>Friday</th>\n",
       "      <th>Monday</th>\n",
       "      <th>Saturday</th>\n",
       "      <th>Sunday</th>\n",
       "      <th>Thursday</th>\n",
       "      <th>Tuesday</th>\n",
       "      <th>Wednesday</th>\n",
       "    </tr>\n",
       "    <tr>\n",
       "      <th>time_category</th>\n",
       "      <th></th>\n",
       "      <th></th>\n",
       "      <th></th>\n",
       "      <th></th>\n",
       "      <th></th>\n",
       "      <th></th>\n",
       "      <th></th>\n",
       "    </tr>\n",
       "  </thead>\n",
       "  <tbody>\n",
       "    <tr>\n",
       "      <th>daytime</th>\n",
       "      <td>456</td>\n",
       "      <td>434</td>\n",
       "      <td>599</td>\n",
       "      <td>916</td>\n",
       "      <td>370</td>\n",
       "      <td>605</td>\n",
       "      <td>306</td>\n",
       "    </tr>\n",
       "    <tr>\n",
       "      <th>evening</th>\n",
       "      <td>434</td>\n",
       "      <td>476</td>\n",
       "      <td>142</td>\n",
       "      <td>304</td>\n",
       "      <td>473</td>\n",
       "      <td>517</td>\n",
       "      <td>702</td>\n",
       "    </tr>\n",
       "    <tr>\n",
       "      <th>morning</th>\n",
       "      <td>507</td>\n",
       "      <td>398</td>\n",
       "      <td>437</td>\n",
       "      <td>370</td>\n",
       "      <td>497</td>\n",
       "      <td>509</td>\n",
       "      <td>498</td>\n",
       "    </tr>\n",
       "    <tr>\n",
       "      <th>night</th>\n",
       "      <td>48</td>\n",
       "      <td>14</td>\n",
       "      <td>26</td>\n",
       "      <td>52</td>\n",
       "      <td>58</td>\n",
       "      <td>56</td>\n",
       "      <td>16</td>\n",
       "    </tr>\n",
       "  </tbody>\n",
       "</table>\n",
       "</div>"
      ],
      "text/plain": [
       "weekday        Friday  Monday  Saturday  Sunday  Thursday  Tuesday  Wednesday\n",
       "time_category                                                                \n",
       "daytime           456     434       599     916       370      605        306\n",
       "evening           434     476       142     304       473      517        702\n",
       "morning           507     398       437     370       497      509        498\n",
       "night              48      14        26      52        58       56         16"
      ]
     },
     "execution_count": 29,
     "metadata": {},
     "output_type": "execute_result"
    }
   ],
   "source": [
    "motion_df_gb = motion_df['binary_sensor.motion_at_home'].groupby([motion_df['weekday'], motion_df['time_category']]).sum().unstack()\n",
    "motion_df_gb.fillna(value=0, inplace=True)   # Replace NaN with 0\n",
    "motion_df_gb = motion_df_gb.astype('int')              # Ints rather than floats\n",
    "motion_df_gb = motion_df_gb.T\n",
    "motion_df_gb"
   ]
  },
  {
   "cell_type": "code",
   "execution_count": 30,
   "metadata": {},
   "outputs": [
    {
     "data": {
      "image/png": "[encoded data removed]",
      "text/plain": [
       "<matplotlib.figure.Figure at 0x11ca463c8>"
      ]
     },
     "metadata": {},
     "output_type": "display_data"
    }
   ],
   "source": [
    "fig, ax = plt.subplots(figsize=(14, 6))\n",
    "days_list = ['Monday', 'Tuesday', 'Wednesday', 'Thursday', 'Friday', 'Saturday', 'Sunday']\n",
    "times_list = ['morning', 'daytime', 'evening', 'night']\n",
    "ax = sns.heatmap(motion_df_gb[days_list].loc[times_list], annot=True, linewidths=.5, fmt=\"d\", ax=ax, cmap='Reds');\n",
    "ax.set_title('Activity at home by day and time category')\n",
    "fig.savefig('heatmap.jpg')"
   ]
  },
  {
   "cell_type": "markdown",
   "metadata": {},
   "source": [
    "#### Prediction with prophet\n",
    "Lets do some forecasting using prophet. We require a single sensor which is a pandas data series object."
   ]
  },
  {
   "cell_type": "code",
   "execution_count": 31,
   "metadata": {},
   "outputs": [
    {
     "data": {
      "image/png": "[encoded data removed]",
      "text/plain": [
       "<matplotlib.figure.Figure at 0x11ca410f0>"
      ]
     },
     "metadata": {},
     "output_type": "display_data"
    }
   ],
   "source": [
    "sensor_ds = sensors_num.data['sensor.darksky_sensor_temperature']\n",
    "sensor_ds.plot();"
   ]
  },
  {
   "cell_type": "code",
   "execution_count": 32,
   "metadata": {},
   "outputs": [],
   "source": [
    "pred1 = detective.Prediction(sensor_ds)"
   ]
  },
  {
   "cell_type": "markdown",
   "metadata": {},
   "source": [
    "Create a prophet model"
   ]
  },
  {
   "cell_type": "code",
   "execution_count": 33,
   "metadata": {},
   "outputs": [
    {
     "name": "stdout",
     "output_type": "stream",
     "text": [
      "\n",
      "        Make a propet model for the given sensor for the number of periods.\n",
      "\n",
      "        Parameters\n",
      "        ----------\n",
      "\n",
      "        periods : int\n",
      "            The default period is 0 (no forecast)\n",
      "\n",
      "        freq : str\n",
      "            Unit of time, defaults to seconds.\n",
      "        \n"
     ]
    }
   ],
   "source": [
    "print(pred1.prophet_model.__doc__)"
   ]
  },
  {
   "cell_type": "code",
   "execution_count": 34,
   "metadata": {},
   "outputs": [
    {
     "name": "stderr",
     "output_type": "stream",
     "text": [
      "INFO:fbprophet.forecaster:Disabling yearly seasonality. Run prophet with yearly_seasonality=True to override this.\n",
      "INFO:fbprophet.forecaster:Disabling weekly seasonality. Run prophet with weekly_seasonality=True to override this.\n",
      "INFO:fbprophet.forecaster:Disabling daily seasonality. Run prophet with daily_seasonality=True to override this.\n",
      "/anaconda3/lib/python3.6/site-packages/pystan/misc.py:399: FutureWarning: Conversion of the second argument of issubdtype from `float` to `np.floating` is deprecated. In future, it will be treated as `np.float64 == np.dtype(float).type`.\n",
      "  elif np.issubdtype(np.asarray(v).dtype, float):\n"
     ]
    },
    {
     "name": "stdout",
     "output_type": "stream",
     "text": [
      "CPU times: user 7.22 s, sys: 195 ms, total: 7.41 s\n",
      "Wall time: 7.62 s\n"
     ]
    }
   ],
   "source": [
    "%%time\n",
    "pred1.prophet_model(periods=5, freq='H')"
   ]
  },
  {
   "cell_type": "code",
   "execution_count": 35,
   "metadata": {},
   "outputs": [
    {
     "name": "stderr",
     "output_type": "stream",
     "text": [
      "/anaconda3/lib/python3.6/site-packages/matplotlib/figure.py:418: UserWarning: matplotlib is currently using a non-GUI backend, so cannot show the figure\n",
      "  \"matplotlib is currently using a non-GUI backend, \"\n"
     ]
    },
    {
     "data": {
      "image/png": "[encoded data removed]",
      "text/plain": [
       "<matplotlib.figure.Figure at 0x11c7ed518>"
      ]
     },
     "metadata": {},
     "output_type": "display_data"
    }
   ],
   "source": [
    "pred1.plot_future()"
   ]
  },
  {
   "cell_type": "code",
   "execution_count": 36,
   "metadata": {},
   "outputs": [
    {
     "ename": "TypeError",
     "evalue": "zip argument #1 must support iteration",
     "output_type": "error",
     "traceback": [
      "\u001b[0;31m---------------------------------------------------------------------------\u001b[0m",
      "\u001b[0;31mTypeError\u001b[0m                                 Traceback (most recent call last)",
      "\u001b[0;32m<ipython-input-36-df20b70e66a0>\u001b[0m in \u001b[0;36m<module>\u001b[0;34m()\u001b[0m\n\u001b[0;32m----> 1\u001b[0;31m \u001b[0mpred1\u001b[0m\u001b[0;34m.\u001b[0m\u001b[0mplot_components\u001b[0m\u001b[0;34m(\u001b[0m\u001b[0;34m)\u001b[0m\u001b[0;34m\u001b[0m\u001b[0m\n\u001b[0m",
      "\u001b[0;32m~/Documents/Github/HASS-data-detective/detective/core.py\u001b[0m in \u001b[0;36mplot_components\u001b[0;34m(self)\u001b[0m\n\u001b[1;32m    262\u001b[0m     \u001b[0;32mdef\u001b[0m \u001b[0mplot_components\u001b[0m\u001b[0;34m(\u001b[0m\u001b[0mself\u001b[0m\u001b[0;34m)\u001b[0m\u001b[0;34m:\u001b[0m\u001b[0;34m\u001b[0m\u001b[0m\n\u001b[1;32m    263\u001b[0m         \u001b[0;34m\"\"\"Plot the prediction.\"\"\"\u001b[0m\u001b[0;34m\u001b[0m\u001b[0m\n\u001b[0;32m--> 264\u001b[0;31m         \u001b[0mself\u001b[0m\u001b[0;34m.\u001b[0m\u001b[0m_model\u001b[0m\u001b[0;34m.\u001b[0m\u001b[0mplot_components\u001b[0m\u001b[0;34m(\u001b[0m\u001b[0mself\u001b[0m\u001b[0;34m.\u001b[0m\u001b[0m_future\u001b[0m\u001b[0;34m)\u001b[0m\u001b[0;34m.\u001b[0m\u001b[0mshow\u001b[0m\u001b[0;34m(\u001b[0m\u001b[0;34m)\u001b[0m\u001b[0;34m\u001b[0m\u001b[0m\n\u001b[0m\u001b[1;32m    265\u001b[0m         \u001b[0;32mreturn\u001b[0m\u001b[0;34m\u001b[0m\u001b[0m\n\u001b[1;32m    266\u001b[0m \u001b[0;34m\u001b[0m\u001b[0m\n",
      "\u001b[0;32m/anaconda3/lib/python3.6/site-packages/fbprophet/forecaster.py\u001b[0m in \u001b[0;36mplot_components\u001b[0;34m(self, fcst, uncertainty, plot_cap, weekly_start, yearly_start)\u001b[0m\n\u001b[1;32m   1304\u001b[0m                                  figsize=(9, 3 * npanel))\n\u001b[1;32m   1305\u001b[0m \u001b[0;34m\u001b[0m\u001b[0m\n\u001b[0;32m-> 1306\u001b[0;31m         \u001b[0;32mfor\u001b[0m \u001b[0max\u001b[0m\u001b[0;34m,\u001b[0m \u001b[0mplot\u001b[0m \u001b[0;32min\u001b[0m \u001b[0mzip\u001b[0m\u001b[0;34m(\u001b[0m\u001b[0maxes\u001b[0m\u001b[0;34m,\u001b[0m \u001b[0mcomponents\u001b[0m\u001b[0;34m)\u001b[0m\u001b[0;34m:\u001b[0m\u001b[0;34m\u001b[0m\u001b[0m\n\u001b[0m\u001b[1;32m   1307\u001b[0m             \u001b[0;32mif\u001b[0m \u001b[0mplot\u001b[0m \u001b[0;34m==\u001b[0m \u001b[0;34m'trend'\u001b[0m\u001b[0;34m:\u001b[0m\u001b[0;34m\u001b[0m\u001b[0m\n\u001b[1;32m   1308\u001b[0m                 self.plot_forecast_component(\n",
      "\u001b[0;31mTypeError\u001b[0m: zip argument #1 must support iteration"
     ]
    },
    {
     "data": {
      "image/png": "[encoded data removed]",
      "text/plain": [
       "<matplotlib.figure.Figure at 0x11c7ed748>"
      ]
     },
     "metadata": {},
     "output_type": "display_data"
    }
   ],
   "source": [
    "pred1.plot_components()"
   ]
  },
  {
   "cell_type": "markdown",
   "metadata": {},
   "source": [
    "Clearly the daily trend is for the warmest temperatures at early afternoon"
   ]
  }
 ],
 "metadata": {
  "kernelspec": {
   "display_name": "Python 3",
   "language": "python",
   "name": "python3"
  },
  "language_info": {
   "codemirror_mode": {
    "name": "ipython",
    "version": 3
   },
   "file_extension": ".py",
   "mimetype": "text/x-python",
   "name": "python",
   "nbconvert_exporter": "python",
   "pygments_lexer": "ipython3",
   "version": "3.6.3"
  }
 },
 "nbformat": 4,
 "nbformat_minor": 2
}
