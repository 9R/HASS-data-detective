{
 "cells": [
  {
   "cell_type": "code",
   "execution_count": 4,
   "metadata": {},
   "outputs": [],
   "source": [
    "# To import detective\n",
    "import os\n",
    "import sys\n",
    "module_path = os.path.abspath(os.path.join('..'))\n",
    "if module_path not in sys.path:\n",
    "    sys.path.append(module_path)\n",
    "\n",
    "import pandas as pd\n",
    "import numpy as np\n",
    "import detective.core as detective\n",
    "import detective.helpers as helpers\n",
    "import matplotlib.pyplot as plt\n",
    "import matplotlib\n",
    "\n",
    "%matplotlib inline"
   ]
  },
  {
   "cell_type": "code",
   "execution_count": 5,
   "metadata": {},
   "outputs": [],
   "source": [
    "date_range = pd.date_range(start='2011-01-01 10:15:00', end='2012-01-01 10:15:00', freq='H')"
   ]
  },
  {
   "cell_type": "code",
   "execution_count": 6,
   "metadata": {},
   "outputs": [],
   "source": [
    "times =  pd.DataFrame(data={'value': np.random.randint(low=0, high=2, size=len(date_range))}, index = date_range)"
   ]
  },
  {
   "cell_type": "code",
   "execution_count": 7,
   "metadata": {},
   "outputs": [
    {
     "data": {
      "image/png": "[encoded data removed]",
      "text/plain": [
       "<matplotlib.figure.Figure at 0x116779ac8>"
      ]
     },
     "metadata": {},
     "output_type": "display_data"
    }
   ],
   "source": [
    "fig, ax = plt.subplots(1, 1, figsize=(10, 2))\n",
    "ax.fill_between(times.index, y1=0, y2=1, facecolor = 'royalblue', label = 'off')\n",
    "ax.fill_between(times.index, where = (times['value'] == 1), y1=0, y2=1, facecolor = 'red' , label = 'on')\n",
    "plt.xlabel('Date'); plt.yticks([]); plt.title('Binary Sensor Plot')\n",
    "plt.legend();\n",
    "a=fig.gca()\n",
    "a.set_frame_on(False)\n"
   ]
  },
  {
   "cell_type": "markdown",
   "metadata": {},
   "source": [
    "# Robin test real data"
   ]
  },
  {
   "cell_type": "code",
   "execution_count": 8,
   "metadata": {},
   "outputs": [],
   "source": [
    "# For cloud database with secret credentials, load from json. Time to load vaires, up to 3 mins.\n",
    "filename = '/Users/robincole/Desktop/hass_db_url.json'\n",
    "DB_URL = helpers.load_url(filename)"
   ]
  },
  {
   "cell_type": "code",
   "execution_count": 9,
   "metadata": {},
   "outputs": [
    {
     "name": "stdout",
     "output_type": "stream",
     "text": [
      "Querying the database, this could take a while\n",
      "CPU times: user 5.63 s, sys: 1.11 s, total: 6.74 s\n",
      "Wall time: 39 s\n"
     ]
    }
   ],
   "source": [
    "%%time\n",
    "parser = detective.DataParser(DB_URL)"
   ]
  },
  {
   "cell_type": "code",
   "execution_count": 10,
   "metadata": {},
   "outputs": [
    {
     "name": "stderr",
     "output_type": "stream",
     "text": [
      "/Users/robincole/Documents/Github/HASS-data-detective/detective/core.py:158: SettingWithCopyWarning: \n",
      "A value is trying to be set on a copy of a slice from a DataFrame.\n",
      "Try using .loc[row_indexer,col_indexer] = value instead\n",
      "\n",
      "See the caveats in the documentation: http://pandas.pydata.org/pandas-docs/stable/indexing.html#indexing-view-versus-copy\n",
      "  lambda x: helpers.binary_state(x))\n"
     ]
    }
   ],
   "source": [
    "sensors_binary = detective.BinarySensors(parser.master_df)"
   ]
  },
  {
   "cell_type": "code",
   "execution_count": 11,
   "metadata": {},
   "outputs": [
    {
     "data": {
      "text/plain": [
       "['binary_sensor.motion_at_home',\n",
       " 'binary_sensor.in_bed_bayesian',\n",
       " 'binary_sensor.elgato_door',\n",
       " 'binary_sensor.late_night_sensor',\n",
       " 'binary_sensor.devices_home',\n",
       " 'binary_sensor.wipy_water_monitor',\n",
       " 'binary_sensor.fibaro_leak',\n",
       " 'binary_sensor.macbook',\n",
       " 'binary_sensor.workday_sensor',\n",
       " 'binary_sensor.living_room_nest_protect_online',\n",
       " 'binary_sensor.blink_armed_status',\n",
       " 'binary_sensor.blink_blink_camera_percy_motion_enabled',\n",
       " 'binary_sensor.doorbell']"
      ]
     },
     "execution_count": 11,
     "metadata": {},
     "output_type": "execute_result"
    }
   ],
   "source": [
    "sensors_binary.entities"
   ]
  },
  {
   "cell_type": "code",
   "execution_count": 15,
   "metadata": {},
   "outputs": [
    {
     "data": {
      "text/html": [
       "<div>\n",
       "<style scoped>\n",
       "    .dataframe tbody tr th:only-of-type {\n",
       "        vertical-align: middle;\n",
       "    }\n",
       "\n",
       "    .dataframe tbody tr th {\n",
       "        vertical-align: top;\n",
       "    }\n",
       "\n",
       "    .dataframe thead th {\n",
       "        text-align: right;\n",
       "    }\n",
       "</style>\n",
       "<table border=\"1\" class=\"dataframe\">\n",
       "  <thead>\n",
       "    <tr style=\"text-align: right;\">\n",
       "      <th></th>\n",
       "      <th>value</th>\n",
       "    </tr>\n",
       "    <tr>\n",
       "      <th>last_changed</th>\n",
       "      <th></th>\n",
       "    </tr>\n",
       "  </thead>\n",
       "  <tbody>\n",
       "    <tr>\n",
       "      <th>2017-12-25 07:30:00.474791</th>\n",
       "      <td>0</td>\n",
       "    </tr>\n",
       "    <tr>\n",
       "      <th>2017-12-25 22:01:01.264267</th>\n",
       "      <td>1</td>\n",
       "    </tr>\n",
       "    <tr>\n",
       "      <th>2017-12-26 07:00:00.272117</th>\n",
       "      <td>0</td>\n",
       "    </tr>\n",
       "    <tr>\n",
       "      <th>2017-12-26 08:27:42.019300</th>\n",
       "      <td>0</td>\n",
       "    </tr>\n",
       "    <tr>\n",
       "      <th>2017-12-26 08:32:39.013654</th>\n",
       "      <td>0</td>\n",
       "    </tr>\n",
       "    <tr>\n",
       "      <th>2017-12-26 09:54:26.722147</th>\n",
       "      <td>0</td>\n",
       "    </tr>\n",
       "    <tr>\n",
       "      <th>2017-12-26 22:01:01.168722</th>\n",
       "      <td>1</td>\n",
       "    </tr>\n",
       "    <tr>\n",
       "      <th>2017-12-27 07:00:01.171748</th>\n",
       "      <td>0</td>\n",
       "    </tr>\n",
       "    <tr>\n",
       "      <th>2017-12-27 22:01:01.170321</th>\n",
       "      <td>1</td>\n",
       "    </tr>\n",
       "    <tr>\n",
       "      <th>2017-12-28 07:00:00.079242</th>\n",
       "      <td>0</td>\n",
       "    </tr>\n",
       "    <tr>\n",
       "      <th>2017-12-28 22:01:01.170492</th>\n",
       "      <td>1</td>\n",
       "    </tr>\n",
       "    <tr>\n",
       "      <th>2017-12-29 07:00:01.174553</th>\n",
       "      <td>0</td>\n",
       "    </tr>\n",
       "    <tr>\n",
       "      <th>2017-12-29 08:01:38.165801</th>\n",
       "      <td>0</td>\n",
       "    </tr>\n",
       "    <tr>\n",
       "      <th>2017-12-29 16:38:00.571431</th>\n",
       "      <td>0</td>\n",
       "    </tr>\n",
       "    <tr>\n",
       "      <th>2017-12-29 16:40:45.261455</th>\n",
       "      <td>0</td>\n",
       "    </tr>\n",
       "    <tr>\n",
       "      <th>2017-12-29 17:25:06.087131</th>\n",
       "      <td>0</td>\n",
       "    </tr>\n",
       "    <tr>\n",
       "      <th>2017-12-29 22:01:01.051199</th>\n",
       "      <td>1</td>\n",
       "    </tr>\n",
       "    <tr>\n",
       "      <th>2017-12-30 07:00:01.052481</th>\n",
       "      <td>0</td>\n",
       "    </tr>\n",
       "    <tr>\n",
       "      <th>2017-12-30 07:59:26.097506</th>\n",
       "      <td>0</td>\n",
       "    </tr>\n",
       "    <tr>\n",
       "      <th>2017-12-30 08:04:57.952928</th>\n",
       "      <td>0</td>\n",
       "    </tr>\n",
       "  </tbody>\n",
       "</table>\n",
       "</div>"
      ],
      "text/plain": [
       "                            value\n",
       "last_changed                     \n",
       "2017-12-25 07:30:00.474791      0\n",
       "2017-12-25 22:01:01.264267      1\n",
       "2017-12-26 07:00:00.272117      0\n",
       "2017-12-26 08:27:42.019300      0\n",
       "2017-12-26 08:32:39.013654      0\n",
       "2017-12-26 09:54:26.722147      0\n",
       "2017-12-26 22:01:01.168722      1\n",
       "2017-12-27 07:00:01.171748      0\n",
       "2017-12-27 22:01:01.170321      1\n",
       "2017-12-28 07:00:00.079242      0\n",
       "2017-12-28 22:01:01.170492      1\n",
       "2017-12-29 07:00:01.174553      0\n",
       "2017-12-29 08:01:38.165801      0\n",
       "2017-12-29 16:38:00.571431      0\n",
       "2017-12-29 16:40:45.261455      0\n",
       "2017-12-29 17:25:06.087131      0\n",
       "2017-12-29 22:01:01.051199      1\n",
       "2017-12-30 07:00:01.052481      0\n",
       "2017-12-30 07:59:26.097506      0\n",
       "2017-12-30 08:04:57.952928      0"
      ]
     },
     "execution_count": 15,
     "metadata": {},
     "output_type": "execute_result"
    }
   ],
   "source": [
    "binary_sensor = sensors_binary.data['binary_sensor.late_night_sensor']\n",
    "binary_sensor.dropna(inplace=True) # Drop the None\n",
    "binary_sensor_dummy = pd.get_dummies(binary_sensor)[True]  # returns a series\n",
    "binary_sensor_dummy = binary_sensor_dummy.to_frame()\n",
    "binary_sensor_dummy.columns = ['value']\n",
    "binary_sensor_dummy[0:20]"
   ]
  },
  {
   "cell_type": "code",
   "execution_count": 16,
   "metadata": {},
   "outputs": [
    {
     "data": {
      "image/png": "[encoded data removed]",
      "text/plain": [
       "<matplotlib.figure.Figure at 0x126d378d0>"
      ]
     },
     "metadata": {},
     "output_type": "display_data"
    }
   ],
   "source": [
    "fig, ax = plt.subplots(1, 1, figsize=(18, 2))\n",
    "ax.fill_between(binary_sensor_dummy.index, y1=0, y2=1, facecolor = 'royalblue', label = 'off')\n",
    "ax.fill_between(binary_sensor_dummy.index, where = (binary_sensor_dummy['value'] == 1), y1=0, y2=1, facecolor = 'red' , label = 'on')\n",
    "plt.xlabel('Date')\n",
    "plt.yticks([])\n",
    "plt.title('Binary Sensor Plot')\n",
    "plt.legend(loc='center left', bbox_to_anchor=(1, 0.5))\n",
    "a=fig.gca()\n",
    "a.set_frame_on(False);"
   ]
  },
  {
   "cell_type": "markdown",
   "metadata": {},
   "source": [
    "Hmm why no seeing any on?"
   ]
  },
  {
   "cell_type": "code",
   "execution_count": null,
   "metadata": {},
   "outputs": [],
   "source": []
  }
 ],
 "metadata": {
  "kernelspec": {
   "display_name": "Python 3",
   "language": "python",
   "name": "python3"
  },
  "language_info": {
   "codemirror_mode": {
    "name": "ipython",
    "version": 3
   },
   "file_extension": ".py",
   "mimetype": "text/x-python",
   "name": "python",
   "nbconvert_exporter": "python",
   "pygments_lexer": "ipython3",
   "version": "3.6.3"
  }
 },
 "nbformat": 4,
 "nbformat_minor": 2
}
