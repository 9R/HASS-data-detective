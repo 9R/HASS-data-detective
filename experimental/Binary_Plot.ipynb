{
 "cells": [
  {
   "cell_type": "code",
   "execution_count": 1,
   "metadata": {},
   "outputs": [],
   "source": [
    "import pandas as pd\n",
    "import numpy as np\n",
    "\n",
    "import matplotlib.pyplot as plt\n",
    "import matplotlib\n",
    "\n",
    "%matplotlib inline"
   ]
  },
  {
   "cell_type": "code",
   "execution_count": 2,
   "metadata": {},
   "outputs": [],
   "source": [
    "date_range = pd.date_range(start='2011-01-01 10:15:00', end='2012-01-01 10:15:00', freq='H')"
   ]
  },
  {
   "cell_type": "code",
   "execution_count": 48,
   "metadata": {},
   "outputs": [],
   "source": [
    "times =  pd.DataFrame(data={'value': np.random.randint(low=0, high=2, size=len(date_range)),\n",
    "                            'value2':np.random.randint(low=0, high=2, size=len(date_range))}, index = date_range)"
   ]
  },
  {
   "cell_type": "markdown",
   "metadata": {},
   "source": [
    "# Single Sensor"
   ]
  },
  {
   "cell_type": "code",
   "execution_count": 57,
   "metadata": {},
   "outputs": [
    {
     "data": {
      "image/png": "[encoded data removed]",
      "text/plain": [
       "<matplotlib.figure.Figure at 0x1fa3479cc18>"
      ]
     },
     "metadata": {},
     "output_type": "display_data"
    }
   ],
   "source": [
    "fig, ax = plt.subplots(1, 1, figsize=(10, 2))\n",
    "\n",
    "ax.fill_between(times.index, y1=0, y2=1, facecolor = 'royalblue', label = 'off')\n",
    "ax.fill_between(times.index, where = (times['value'] == 1), y1=0, y2=1, facecolor = 'red' , label = 'on')\n",
    "ax.set_title('Sensor 1')\n",
    "ax.set_yticks([])\n",
    "ax.set_frame_on(False)\n",
    "plt.legend(loc=(1, 0.75));"
   ]
  },
  {
   "cell_type": "markdown",
   "metadata": {},
   "source": [
    "# Multiple Sensors"
   ]
  },
  {
   "cell_type": "code",
   "execution_count": 50,
   "metadata": {},
   "outputs": [
    {
     "data": {
      "image/png": "[encoded data removed]",
      "text/plain": [
       "<matplotlib.figure.Figure at 0x1fa34eec198>"
      ]
     },
     "metadata": {},
     "output_type": "display_data"
    }
   ],
   "source": [
    "fig, axarr = plt.subplots(2, 1, figsize=(10, 4))\n",
    "\n",
    "axarr[0].fill_between(times.index, y1=0, y2=1, facecolor = 'royalblue', label = 'off')\n",
    "axarr[0].fill_between(times.index, where = (times['value'] == 1), y1=0, y2=1, facecolor = 'red' , label = 'on')\n",
    "axarr[0].set_title('Sensor 1')\n",
    "axarr[0].set_yticks([])\n",
    "axarr[0].set_frame_on(False)\n",
    "\n",
    "axarr[1].fill_between(times.index, y1=0, y2=1, facecolor = 'royalblue', label = 'off')\n",
    "axarr[1].fill_between(times.index, where = (times['value2'] == 1), y1=0, y2=1, facecolor = 'red' , label = 'on')\n",
    "axarr[1].set_title('Sensor 2')\n",
    "axarr[1].set_yticks([])\n",
    "axarr[1].set_frame_on(False)\n",
    "\n",
    "\n",
    "plt.legend(loc=(1.02, 1))\n",
    "plt.xlabel('Date'); plt.yticks([])\n",
    "plt.tight_layout(h_pad = 2)\n",
    "fig.subplots_adjust(top = 0.85)\n",
    "plt.suptitle('Binary Plots');"
   ]
  },
  {
   "cell_type": "code",
   "execution_count": null,
   "metadata": {},
   "outputs": [],
   "source": []
  }
 ],
 "metadata": {
  "kernelspec": {
   "display_name": "Python 3",
   "language": "python",
   "name": "python3"
  },
  "language_info": {
   "codemirror_mode": {
    "name": "ipython",
    "version": 3
   },
   "file_extension": ".py",
   "mimetype": "text/x-python",
   "name": "python",
   "nbconvert_exporter": "python",
   "pygments_lexer": "ipython3",
   "version": "3.6.4"
  }
 },
 "nbformat": 4,
 "nbformat_minor": 2
}
