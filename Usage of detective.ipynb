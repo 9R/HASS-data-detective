{
 "cells": [
  {
   "cell_type": "markdown",
   "metadata": {},
   "source": [
    "Notebook showing usage of the data detective package.\n",
    "\n",
    "**References**\n",
    "* https://facebook.github.io/prophet/"
   ]
  },
  {
   "cell_type": "code",
   "execution_count": 1,
   "metadata": {},
   "outputs": [],
   "source": [
    "import detective.core as detective\n",
    "import detective.helpers as helpers\n",
    "\n",
    "import pandas as pd\n",
    "import seaborn as sns\n",
    "import matplotlib.pyplot as plt\n",
    "%matplotlib inline"
   ]
  },
  {
   "cell_type": "markdown",
   "metadata": {},
   "source": [
    "To load from a local db, we just need the path"
   ]
  },
  {
   "cell_type": "code",
   "execution_count": 2,
   "metadata": {},
   "outputs": [],
   "source": [
    "db_path = 'Users/robincole/Documents/Home-assistant_database/home-assistant_v2.db'\n",
    "DB_URL = 'sqlite:////' + db_path"
   ]
  },
  {
   "cell_type": "markdown",
   "metadata": {},
   "source": [
    "Alternatively, to load from a cloud database we load from a json file containing the url as the url contains our credentials and we want to lkeep these a secret. To learn how the Google CLoud SQL recorder can be setup checkout https://github.com/robmarkcole/HASS-Google-Cloud-SQL"
   ]
  },
  {
   "cell_type": "code",
   "execution_count": 3,
   "metadata": {},
   "outputs": [],
   "source": [
    "# For cloud database with secret credentials, load from json. Time to load vaires, up to 3 mins.\n",
    "filename = '/Users/robincole/Desktop/hass_db_url.json'\n",
    "DB_URL = helpers.load_url(filename)"
   ]
  },
  {
   "cell_type": "markdown",
   "metadata": {},
   "source": [
    "## Load the db data"
   ]
  },
  {
   "cell_type": "markdown",
   "metadata": {},
   "source": [
    "We use the DataParser class to load data from the database. This class performs the SQL queries and parses the returned data."
   ]
  },
  {
   "cell_type": "code",
   "execution_count": 4,
   "metadata": {},
   "outputs": [
    {
     "name": "stdout",
     "output_type": "stream",
     "text": [
      "Querying the database, this could take a while\n"
     ]
    },
    {
     "name": "stderr",
     "output_type": "stream",
     "text": [
      "/Users/robincole/Documents/Github/HASS-data-detective/detective/core.py:59: SettingWithCopyWarning: \n",
      "A value is trying to be set on a copy of a slice from a DataFrame.\n",
      "Try using .loc[row_indexer,col_indexer] = value instead\n",
      "\n",
      "See the caveats in the documentation: http://pandas.pydata.org/pandas-docs/stable/indexing.html#indexing-view-versus-copy\n",
      "  sensors_num_df['state'] = sensors_num_df['state'].astype('float')\n"
     ]
    },
    {
     "name": "stdout",
     "output_type": "stream",
     "text": [
      "CPU times: user 6.09 s, sys: 1.44 s, total: 7.53 s\n",
      "Wall time: 1min 3s\n"
     ]
    }
   ],
   "source": [
    "%%time\n",
    "parser = detective.DataParser(DB_URL)"
   ]
  },
  {
   "cell_type": "markdown",
   "metadata": {},
   "source": [
    "We can access the list of sensor entities using the list_sensors attribute"
   ]
  },
  {
   "cell_type": "code",
   "execution_count": 5,
   "metadata": {},
   "outputs": [
    {
     "data": {
      "text/plain": [
       "['sensor.bme680humidity',\n",
       " 'sensor.bme680pressure',\n",
       " 'sensor.next_train_in',\n",
       " 'sensor.living_room_temperature',\n",
       " 'sensor.darksky_sensor_temperature',\n",
       " 'sensor.mean_temperature',\n",
       " 'sensor.bme680temperature',\n",
       " 'sensor.bedroom_temperature',\n",
       " 'sensor.next_train_to_wim',\n",
       " 'sensor.network_up']"
      ]
     },
     "execution_count": 5,
     "metadata": {},
     "output_type": "execute_result"
    }
   ],
   "source": [
    "parser.list_sensors[0:10]"
   ]
  },
  {
   "cell_type": "markdown",
   "metadata": {},
   "source": [
    "Now lets look at the dataframe"
   ]
  },
  {
   "cell_type": "code",
   "execution_count": 6,
   "metadata": {},
   "outputs": [
    {
     "data": {
      "text/html": [
       "<div>\n",
       "<style scoped>\n",
       "    .dataframe tbody tr th:only-of-type {\n",
       "        vertical-align: middle;\n",
       "    }\n",
       "\n",
       "    .dataframe tbody tr th {\n",
       "        vertical-align: top;\n",
       "    }\n",
       "\n",
       "    .dataframe thead th {\n",
       "        text-align: right;\n",
       "    }\n",
       "</style>\n",
       "<table border=\"1\" class=\"dataframe\">\n",
       "  <thead>\n",
       "    <tr style=\"text-align: right;\">\n",
       "      <th>entity</th>\n",
       "      <th>sensor.bayes_probability</th>\n",
       "      <th>sensor.bedroom_temperature</th>\n",
       "      <th>sensor.blink_blink_camera_percy_notifications</th>\n",
       "      <th>sensor.blink_blink_camera_percy_temperature</th>\n",
       "      <th>sensor.bme680air_qual</th>\n",
       "      <th>sensor.bme680humidity</th>\n",
       "      <th>sensor.bme680pressure</th>\n",
       "      <th>sensor.bme680temperature</th>\n",
       "      <th>sensor.cpu_load_total</th>\n",
       "      <th>sensor.darksky_sensor_precip_probability</th>\n",
       "      <th>...</th>\n",
       "      <th>sensor.mean_temperature</th>\n",
       "      <th>sensor.memory_usage_real</th>\n",
       "      <th>sensor.network_up</th>\n",
       "      <th>sensor.next_train_in</th>\n",
       "      <th>sensor.next_train_to_wim</th>\n",
       "      <th>sensor.robins_iphone_battery_level</th>\n",
       "      <th>sensor.speedtest_download</th>\n",
       "      <th>sensor.time_in_bed</th>\n",
       "      <th>sensor.volume_used_volume_1</th>\n",
       "      <th>sensor.work_to_home</th>\n",
       "    </tr>\n",
       "    <tr>\n",
       "      <th>last_changed</th>\n",
       "      <th></th>\n",
       "      <th></th>\n",
       "      <th></th>\n",
       "      <th></th>\n",
       "      <th></th>\n",
       "      <th></th>\n",
       "      <th></th>\n",
       "      <th></th>\n",
       "      <th></th>\n",
       "      <th></th>\n",
       "      <th></th>\n",
       "      <th></th>\n",
       "      <th></th>\n",
       "      <th></th>\n",
       "      <th></th>\n",
       "      <th></th>\n",
       "      <th></th>\n",
       "      <th></th>\n",
       "      <th></th>\n",
       "      <th></th>\n",
       "      <th></th>\n",
       "    </tr>\n",
       "  </thead>\n",
       "  <tbody>\n",
       "    <tr>\n",
       "      <th>2018-01-23 07:16:58.762162</th>\n",
       "      <td>0.2</td>\n",
       "      <td>18.19</td>\n",
       "      <td>1.0</td>\n",
       "      <td>18.0</td>\n",
       "      <td>7549489.0</td>\n",
       "      <td>45.957</td>\n",
       "      <td>1016.85</td>\n",
       "      <td>22.07</td>\n",
       "      <td>2.0</td>\n",
       "      <td>0.0</td>\n",
       "      <td>...</td>\n",
       "      <td>18.12</td>\n",
       "      <td>53.0</td>\n",
       "      <td>5.5</td>\n",
       "      <td>1.0</td>\n",
       "      <td>1.0</td>\n",
       "      <td>100.0</td>\n",
       "      <td>10.79</td>\n",
       "      <td>7.16</td>\n",
       "      <td>19.7</td>\n",
       "      <td>38.0</td>\n",
       "    </tr>\n",
       "    <tr>\n",
       "      <th>2018-01-23 07:16:58.910505</th>\n",
       "      <td>0.2</td>\n",
       "      <td>18.19</td>\n",
       "      <td>1.0</td>\n",
       "      <td>18.0</td>\n",
       "      <td>7549489.0</td>\n",
       "      <td>45.957</td>\n",
       "      <td>1016.85</td>\n",
       "      <td>22.07</td>\n",
       "      <td>2.0</td>\n",
       "      <td>0.0</td>\n",
       "      <td>...</td>\n",
       "      <td>18.12</td>\n",
       "      <td>53.0</td>\n",
       "      <td>5.5</td>\n",
       "      <td>1.0</td>\n",
       "      <td>1.0</td>\n",
       "      <td>100.0</td>\n",
       "      <td>10.79</td>\n",
       "      <td>0.00</td>\n",
       "      <td>19.7</td>\n",
       "      <td>38.0</td>\n",
       "    </tr>\n",
       "    <tr>\n",
       "      <th>2018-01-23 07:16:59.094701</th>\n",
       "      <td>0.2</td>\n",
       "      <td>18.19</td>\n",
       "      <td>1.0</td>\n",
       "      <td>18.0</td>\n",
       "      <td>7549489.0</td>\n",
       "      <td>45.957</td>\n",
       "      <td>1016.85</td>\n",
       "      <td>22.07</td>\n",
       "      <td>2.0</td>\n",
       "      <td>0.0</td>\n",
       "      <td>...</td>\n",
       "      <td>18.12</td>\n",
       "      <td>53.0</td>\n",
       "      <td>5.5</td>\n",
       "      <td>1.0</td>\n",
       "      <td>28.0</td>\n",
       "      <td>100.0</td>\n",
       "      <td>10.79</td>\n",
       "      <td>0.00</td>\n",
       "      <td>19.7</td>\n",
       "      <td>38.0</td>\n",
       "    </tr>\n",
       "    <tr>\n",
       "      <th>2018-01-23 07:17:04.256479</th>\n",
       "      <td>0.2</td>\n",
       "      <td>18.19</td>\n",
       "      <td>1.0</td>\n",
       "      <td>18.0</td>\n",
       "      <td>7549489.0</td>\n",
       "      <td>45.957</td>\n",
       "      <td>1016.85</td>\n",
       "      <td>22.07</td>\n",
       "      <td>2.0</td>\n",
       "      <td>0.0</td>\n",
       "      <td>...</td>\n",
       "      <td>18.12</td>\n",
       "      <td>53.0</td>\n",
       "      <td>5.5</td>\n",
       "      <td>1.0</td>\n",
       "      <td>28.0</td>\n",
       "      <td>100.0</td>\n",
       "      <td>10.79</td>\n",
       "      <td>0.00</td>\n",
       "      <td>19.7</td>\n",
       "      <td>38.0</td>\n",
       "    </tr>\n",
       "    <tr>\n",
       "      <th>2018-01-23 07:17:04.484865</th>\n",
       "      <td>0.2</td>\n",
       "      <td>18.19</td>\n",
       "      <td>1.0</td>\n",
       "      <td>18.0</td>\n",
       "      <td>7549489.0</td>\n",
       "      <td>45.957</td>\n",
       "      <td>1016.85</td>\n",
       "      <td>22.07</td>\n",
       "      <td>2.0</td>\n",
       "      <td>0.0</td>\n",
       "      <td>...</td>\n",
       "      <td>18.12</td>\n",
       "      <td>53.0</td>\n",
       "      <td>5.5</td>\n",
       "      <td>1.0</td>\n",
       "      <td>28.0</td>\n",
       "      <td>100.0</td>\n",
       "      <td>10.79</td>\n",
       "      <td>0.00</td>\n",
       "      <td>19.7</td>\n",
       "      <td>38.0</td>\n",
       "    </tr>\n",
       "  </tbody>\n",
       "</table>\n",
       "<p>5 rows × 28 columns</p>\n",
       "</div>"
      ],
      "text/plain": [
       "entity                      sensor.bayes_probability  \\\n",
       "last_changed                                           \n",
       "2018-01-23 07:16:58.762162                       0.2   \n",
       "2018-01-23 07:16:58.910505                       0.2   \n",
       "2018-01-23 07:16:59.094701                       0.2   \n",
       "2018-01-23 07:17:04.256479                       0.2   \n",
       "2018-01-23 07:17:04.484865                       0.2   \n",
       "\n",
       "entity                      sensor.bedroom_temperature  \\\n",
       "last_changed                                             \n",
       "2018-01-23 07:16:58.762162                       18.19   \n",
       "2018-01-23 07:16:58.910505                       18.19   \n",
       "2018-01-23 07:16:59.094701                       18.19   \n",
       "2018-01-23 07:17:04.256479                       18.19   \n",
       "2018-01-23 07:17:04.484865                       18.19   \n",
       "\n",
       "entity                      sensor.blink_blink_camera_percy_notifications  \\\n",
       "last_changed                                                                \n",
       "2018-01-23 07:16:58.762162                                            1.0   \n",
       "2018-01-23 07:16:58.910505                                            1.0   \n",
       "2018-01-23 07:16:59.094701                                            1.0   \n",
       "2018-01-23 07:17:04.256479                                            1.0   \n",
       "2018-01-23 07:17:04.484865                                            1.0   \n",
       "\n",
       "entity                      sensor.blink_blink_camera_percy_temperature  \\\n",
       "last_changed                                                              \n",
       "2018-01-23 07:16:58.762162                                         18.0   \n",
       "2018-01-23 07:16:58.910505                                         18.0   \n",
       "2018-01-23 07:16:59.094701                                         18.0   \n",
       "2018-01-23 07:17:04.256479                                         18.0   \n",
       "2018-01-23 07:17:04.484865                                         18.0   \n",
       "\n",
       "entity                      sensor.bme680air_qual  sensor.bme680humidity  \\\n",
       "last_changed                                                               \n",
       "2018-01-23 07:16:58.762162              7549489.0                 45.957   \n",
       "2018-01-23 07:16:58.910505              7549489.0                 45.957   \n",
       "2018-01-23 07:16:59.094701              7549489.0                 45.957   \n",
       "2018-01-23 07:17:04.256479              7549489.0                 45.957   \n",
       "2018-01-23 07:17:04.484865              7549489.0                 45.957   \n",
       "\n",
       "entity                      sensor.bme680pressure  sensor.bme680temperature  \\\n",
       "last_changed                                                                  \n",
       "2018-01-23 07:16:58.762162                1016.85                     22.07   \n",
       "2018-01-23 07:16:58.910505                1016.85                     22.07   \n",
       "2018-01-23 07:16:59.094701                1016.85                     22.07   \n",
       "2018-01-23 07:17:04.256479                1016.85                     22.07   \n",
       "2018-01-23 07:17:04.484865                1016.85                     22.07   \n",
       "\n",
       "entity                      sensor.cpu_load_total  \\\n",
       "last_changed                                        \n",
       "2018-01-23 07:16:58.762162                    2.0   \n",
       "2018-01-23 07:16:58.910505                    2.0   \n",
       "2018-01-23 07:16:59.094701                    2.0   \n",
       "2018-01-23 07:17:04.256479                    2.0   \n",
       "2018-01-23 07:17:04.484865                    2.0   \n",
       "\n",
       "entity                      sensor.darksky_sensor_precip_probability  \\\n",
       "last_changed                                                           \n",
       "2018-01-23 07:16:58.762162                                       0.0   \n",
       "2018-01-23 07:16:58.910505                                       0.0   \n",
       "2018-01-23 07:16:59.094701                                       0.0   \n",
       "2018-01-23 07:17:04.256479                                       0.0   \n",
       "2018-01-23 07:17:04.484865                                       0.0   \n",
       "\n",
       "entity                             ...           sensor.mean_temperature  \\\n",
       "last_changed                       ...                                     \n",
       "2018-01-23 07:16:58.762162         ...                             18.12   \n",
       "2018-01-23 07:16:58.910505         ...                             18.12   \n",
       "2018-01-23 07:16:59.094701         ...                             18.12   \n",
       "2018-01-23 07:17:04.256479         ...                             18.12   \n",
       "2018-01-23 07:17:04.484865         ...                             18.12   \n",
       "\n",
       "entity                      sensor.memory_usage_real  sensor.network_up  \\\n",
       "last_changed                                                              \n",
       "2018-01-23 07:16:58.762162                      53.0                5.5   \n",
       "2018-01-23 07:16:58.910505                      53.0                5.5   \n",
       "2018-01-23 07:16:59.094701                      53.0                5.5   \n",
       "2018-01-23 07:17:04.256479                      53.0                5.5   \n",
       "2018-01-23 07:17:04.484865                      53.0                5.5   \n",
       "\n",
       "entity                      sensor.next_train_in  sensor.next_train_to_wim  \\\n",
       "last_changed                                                                 \n",
       "2018-01-23 07:16:58.762162                   1.0                       1.0   \n",
       "2018-01-23 07:16:58.910505                   1.0                       1.0   \n",
       "2018-01-23 07:16:59.094701                   1.0                      28.0   \n",
       "2018-01-23 07:17:04.256479                   1.0                      28.0   \n",
       "2018-01-23 07:17:04.484865                   1.0                      28.0   \n",
       "\n",
       "entity                      sensor.robins_iphone_battery_level  \\\n",
       "last_changed                                                     \n",
       "2018-01-23 07:16:58.762162                               100.0   \n",
       "2018-01-23 07:16:58.910505                               100.0   \n",
       "2018-01-23 07:16:59.094701                               100.0   \n",
       "2018-01-23 07:17:04.256479                               100.0   \n",
       "2018-01-23 07:17:04.484865                               100.0   \n",
       "\n",
       "entity                      sensor.speedtest_download  sensor.time_in_bed  \\\n",
       "last_changed                                                                \n",
       "2018-01-23 07:16:58.762162                      10.79                7.16   \n",
       "2018-01-23 07:16:58.910505                      10.79                0.00   \n",
       "2018-01-23 07:16:59.094701                      10.79                0.00   \n",
       "2018-01-23 07:17:04.256479                      10.79                0.00   \n",
       "2018-01-23 07:17:04.484865                      10.79                0.00   \n",
       "\n",
       "entity                      sensor.volume_used_volume_1  sensor.work_to_home  \n",
       "last_changed                                                                  \n",
       "2018-01-23 07:16:58.762162                         19.7                 38.0  \n",
       "2018-01-23 07:16:58.910505                         19.7                 38.0  \n",
       "2018-01-23 07:16:59.094701                         19.7                 38.0  \n",
       "2018-01-23 07:17:04.256479                         19.7                 38.0  \n",
       "2018-01-23 07:17:04.484865                         19.7                 38.0  \n",
       "\n",
       "[5 rows x 28 columns]"
      ]
     },
     "execution_count": 6,
     "metadata": {},
     "output_type": "execute_result"
    }
   ],
   "source": [
    "sensors_df = parser.get_sensors_numerical\n",
    "sensors_df.head()"
   ]
  },
  {
   "cell_type": "markdown",
   "metadata": {},
   "source": [
    "Lets now check for correlations in the data using the all_corrs() method"
   ]
  },
  {
   "cell_type": "code",
   "execution_count": 7,
   "metadata": {},
   "outputs": [],
   "source": [
    "corrs = parser.get_corrs"
   ]
  },
  {
   "cell_type": "code",
   "execution_count": 8,
   "metadata": {},
   "outputs": [
    {
     "data": {
      "text/html": [
       "<div>\n",
       "<style scoped>\n",
       "    .dataframe tbody tr th:only-of-type {\n",
       "        vertical-align: middle;\n",
       "    }\n",
       "\n",
       "    .dataframe tbody tr th {\n",
       "        vertical-align: top;\n",
       "    }\n",
       "\n",
       "    .dataframe thead th {\n",
       "        text-align: right;\n",
       "    }\n",
       "</style>\n",
       "<table border=\"1\" class=\"dataframe\">\n",
       "  <thead>\n",
       "    <tr style=\"text-align: right;\">\n",
       "      <th></th>\n",
       "      <th>value</th>\n",
       "    </tr>\n",
       "  </thead>\n",
       "  <tbody>\n",
       "    <tr>\n",
       "      <th>sensor.next_train_to_wim-sensor.next_train_in</th>\n",
       "      <td>0.980572</td>\n",
       "    </tr>\n",
       "    <tr>\n",
       "      <th>sensor.mean_temperature-sensor.bedroom_temperature</th>\n",
       "      <td>0.899226</td>\n",
       "    </tr>\n",
       "    <tr>\n",
       "      <th>sensor.blink_blink_camera_percy_temperature-sensor.mean_temperature</th>\n",
       "      <td>0.798780</td>\n",
       "    </tr>\n",
       "    <tr>\n",
       "      <th>sensor.mean_temperature-sensor.living_room_temperature</th>\n",
       "      <td>0.791457</td>\n",
       "    </tr>\n",
       "    <tr>\n",
       "      <th>sensor.blink_blink_camera_percy_temperature-sensor.bedroom_temperature</th>\n",
       "      <td>0.729187</td>\n",
       "    </tr>\n",
       "    <tr>\n",
       "      <th>sensor.hall_temperature-sensor.mean_temperature</th>\n",
       "      <td>0.705694</td>\n",
       "    </tr>\n",
       "    <tr>\n",
       "      <th>sensor.bedroom_temperature-sensor.living_room_temperature</th>\n",
       "      <td>0.700207</td>\n",
       "    </tr>\n",
       "    <tr>\n",
       "      <th>sensor.robins_iphone_battery_level-sensor.home_to_waterloo</th>\n",
       "      <td>-0.557603</td>\n",
       "    </tr>\n",
       "    <tr>\n",
       "      <th>sensor.darksky_sensor_temperature-sensor.bedroom_temperature</th>\n",
       "      <td>-0.602658</td>\n",
       "    </tr>\n",
       "    <tr>\n",
       "      <th>sensor.iphone_battery_level-sensor.darksky_sensor_temperature</th>\n",
       "      <td>-0.637414</td>\n",
       "    </tr>\n",
       "  </tbody>\n",
       "</table>\n",
       "</div>"
      ],
      "text/plain": [
       "                                                       value\n",
       "sensor.next_train_to_wim-sensor.next_train_in       0.980572\n",
       "sensor.mean_temperature-sensor.bedroom_temperature  0.899226\n",
       "sensor.blink_blink_camera_percy_temperature-sen...  0.798780\n",
       "sensor.mean_temperature-sensor.living_room_temp...  0.791457\n",
       "sensor.blink_blink_camera_percy_temperature-sen...  0.729187\n",
       "sensor.hall_temperature-sensor.mean_temperature     0.705694\n",
       "sensor.bedroom_temperature-sensor.living_room_t...  0.700207\n",
       "sensor.robins_iphone_battery_level-sensor.home_... -0.557603\n",
       "sensor.darksky_sensor_temperature-sensor.bedroo... -0.602658\n",
       "sensor.iphone_battery_level-sensor.darksky_sens... -0.637414"
      ]
     },
     "execution_count": 8,
     "metadata": {},
     "output_type": "execute_result"
    }
   ],
   "source": [
    "corrs[(corrs['value'] > 0.5) | (corrs['value'] < -0.5)]"
   ]
  },
  {
   "cell_type": "markdown",
   "metadata": {},
   "source": [
    "Unsurprisingly the mean temperature is strongly correlated with all of the temperature sensors. \n",
    "\n",
    "Interestingly my iphone battery level is somewhat inversely correlated with the travel time from home to waterloo, which gets longer late at night when my battery level is more likely to be low. "
   ]
  },
  {
   "cell_type": "markdown",
   "metadata": {},
   "source": [
    "#### Plot a single sensor\n",
    "Convenience to plot a single sensor."
   ]
  },
  {
   "cell_type": "code",
   "execution_count": 9,
   "metadata": {},
   "outputs": [
    {
     "ename": "AttributeError",
     "evalue": "'DataParser' object has no attribute 'plot_sensor'",
     "output_type": "error",
     "traceback": [
      "\u001b[0;31m---------------------------------------------------------------------------\u001b[0m",
      "\u001b[0;31mAttributeError\u001b[0m                            Traceback (most recent call last)",
      "\u001b[0;32m<ipython-input-9-cd65ef559a4a>\u001b[0m in \u001b[0;36m<module>\u001b[0;34m()\u001b[0m\n\u001b[1;32m      1\u001b[0m \u001b[0msensor\u001b[0m \u001b[0;34m=\u001b[0m \u001b[0;34m'sensor.darksky_sensor_temperature'\u001b[0m\u001b[0;34m\u001b[0m\u001b[0m\n\u001b[0;32m----> 2\u001b[0;31m \u001b[0mparser\u001b[0m\u001b[0;34m.\u001b[0m\u001b[0mplot_sensor\u001b[0m\u001b[0;34m(\u001b[0m\u001b[0msensor\u001b[0m\u001b[0;34m)\u001b[0m\u001b[0;34m\u001b[0m\u001b[0m\n\u001b[0m",
      "\u001b[0;31mAttributeError\u001b[0m: 'DataParser' object has no attribute 'plot_sensor'"
     ]
    }
   ],
   "source": [
    "sensor = 'sensor.darksky_sensor_temperature'\n",
    "parser.plot_sensor(sensor)"
   ]
  },
  {
   "cell_type": "markdown",
   "metadata": {},
   "source": [
    "Equivalent to"
   ]
  },
  {
   "cell_type": "code",
   "execution_count": null,
   "metadata": {},
   "outputs": [],
   "source": [
    "sensors_df[sensor].plot();"
   ]
  },
  {
   "cell_type": "markdown",
   "metadata": {},
   "source": [
    "#### Pairplot\n",
    "A seaborn pair plot to show correlations."
   ]
  },
  {
   "cell_type": "code",
   "execution_count": null,
   "metadata": {},
   "outputs": [],
   "source": [
    "parser.sensor_pairplot(['sensor.living_room_temperature',\n",
    "                        'sensor.bedroom_temperature',\n",
    "                        'sensor.darksky_sensor_temperature'])"
   ]
  },
  {
   "cell_type": "markdown",
   "metadata": {},
   "source": [
    "#### Prediction with prophet\n",
    "Lets do some forecasting using prophet."
   ]
  },
  {
   "cell_type": "code",
   "execution_count": null,
   "metadata": {},
   "outputs": [],
   "source": [
    "%%time\n",
    "sensor = 'sensor.darksky_sensor_temperature'\n",
    "model, future = parser.prophet_model(sensor, periods=365, freq='H')"
   ]
  },
  {
   "cell_type": "code",
   "execution_count": null,
   "metadata": {},
   "outputs": [],
   "source": [
    "model.plot(future)\n",
    "plt.show()"
   ]
  },
  {
   "cell_type": "code",
   "execution_count": null,
   "metadata": {},
   "outputs": [],
   "source": [
    "model.plot_components(future)\n",
    "plt.show()"
   ]
  },
  {
   "cell_type": "markdown",
   "metadata": {},
   "source": [
    "Clearly the daily trend is for the warmest temperatures at early afternoon"
   ]
  }
 ],
 "metadata": {
  "kernelspec": {
   "display_name": "Python 3",
   "language": "python",
   "name": "python3"
  },
  "language_info": {
   "codemirror_mode": {
    "name": "ipython",
    "version": 3
   },
   "file_extension": ".py",
   "mimetype": "text/x-python",
   "name": "python",
   "nbconvert_exporter": "python",
   "pygments_lexer": "ipython3",
   "version": "3.6.3"
  }
 },
 "nbformat": 4,
 "nbformat_minor": 2
}
